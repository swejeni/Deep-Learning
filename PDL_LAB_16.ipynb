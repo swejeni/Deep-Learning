{
 "cells": [
  {
   "cell_type": "markdown",
   "id": "740046c0",
   "metadata": {},
   "source": [
    "### PDL Lab 12.  Image corpus creation and Transfer Learning in CNN"
   ]
  },
  {
   "cell_type": "code",
   "execution_count": 42,
   "id": "13c6b76a",
   "metadata": {},
   "outputs": [],
   "source": [
    "#1.import the necessary libraries"
   ]
  },
  {
   "cell_type": "code",
   "execution_count": 2,
   "id": "3645a415",
   "metadata": {},
   "outputs": [
    {
     "name": "stderr",
     "output_type": "stream",
     "text": [
      "C:\\Users\\sweth\\Downloads\\nlp\\lib\\site-packages\\scipy\\__init__.py:155: UserWarning: A NumPy version >=1.18.5 and <1.25.0 is required for this version of SciPy (detected version 1.25.2\n",
      "  warnings.warn(f\"A NumPy version >={np_minversion} and <{np_maxversion}\"\n"
     ]
    }
   ],
   "source": [
    "import pandas as pd \n",
    "import datetime \n",
    "import keras\n",
    "from keras.datasets import mnist \n",
    "from keras.models import Sequential\n",
    "from keras.layers import Dense, Dropout, Activation, Flatten \n",
    "from keras.layers import Conv2D, MaxPooling2D"
   ]
  },
  {
   "cell_type": "code",
   "execution_count": 3,
   "id": "5ec0a374",
   "metadata": {},
   "outputs": [],
   "source": [
    "# 2.initialize some parameters"
   ]
  },
  {
   "cell_type": "code",
   "execution_count": 4,
   "id": "0c21ad83",
   "metadata": {},
   "outputs": [],
   "source": [
    "now=datetime.datetime.now #get current time\n",
    "\n",
    "batch_size=128 \n",
    "num_classes=5 \n",
    "epochs=5\n",
    "\n",
    "img_rows,img_cols=28,28 \n",
    "filters=32\n",
    "pool_size=2 \n",
    "kernel_size=3"
   ]
  },
  {
   "cell_type": "code",
   "execution_count": 8,
   "id": "fc4a75a3",
   "metadata": {},
   "outputs": [],
   "source": [
    "#3.partition MNISt dataset"
   ]
  },
  {
   "cell_type": "code",
   "execution_count": 9,
   "id": "ed277eef",
   "metadata": {},
   "outputs": [],
   "source": [
    "(x_train,y_train),(x_test,y_test)=mnist.load_data() \n",
    "x_train_lt5=x_train[y_train <5]\n",
    "y_train_lt5=y_train[y_train <5]\n",
    "x_test_lt5=x_test[y_test <5]"
   ]
  },
  {
   "cell_type": "code",
   "execution_count": 11,
   "id": "d676a36a",
   "metadata": {},
   "outputs": [],
   "source": [
    "y_test_lt5=y_test[y_test <5]\n",
    "x_train_gte5=x_train[y_train >=5]\n",
    "y_train_gte5=y_train[y_train >=5] -5\n",
    "x_test_gte5=x_test[y_test >=5]\n",
    "y_test_gte5=y_test[y_test >=5] -5"
   ]
  },
  {
   "cell_type": "code",
   "execution_count": 12,
   "id": "cf3c56ae",
   "metadata": {},
   "outputs": [],
   "source": [
    "#4.define the ’features' layers"
   ]
  },
  {
   "cell_type": "code",
   "execution_count": 20,
   "id": "04bec428",
   "metadata": {},
   "outputs": [
    {
     "name": "stdout",
     "output_type": "stream",
     "text": [
      "Model: \"sequential_1\"\n",
      "_________________________________________________________________\n",
      " Layer (type)                Output Shape              Param #   \n",
      "=================================================================\n",
      " conv2d_2 (Conv2D)           (None, 26, 26, 32)        320       \n",
      "                                                                 \n",
      " max_pooling2d_1 (MaxPoolin  (None, 13, 13, 32)        0         \n",
      " g2D)                                                            \n",
      "                                                                 \n",
      " conv2d_3 (Conv2D)           (None, 11, 11, 64)        18496     \n",
      "                                                                 \n",
      " max_pooling2d_2 (MaxPoolin  (None, 5, 5, 64)          0         \n",
      " g2D)                                                            \n",
      "                                                                 \n",
      " flatten_1 (Flatten)         (None, 1600)              0         \n",
      "                                                                 \n",
      " dropout_2 (Dropout)         (None, 1600)              0         \n",
      "                                                                 \n",
      " dense_2 (Dense)             (None, 128)               204928    \n",
      "                                                                 \n",
      " dropout_3 (Dropout)         (None, 128)               0         \n",
      "                                                                 \n",
      " dense_3 (Dense)             (None, 5)                 645       \n",
      "                                                                 \n",
      "=================================================================\n",
      "Total params: 224389 (876.52 KB)\n",
      "Trainable params: 224389 (876.52 KB)\n",
      "Non-trainable params: 0 (0.00 Byte)\n",
      "_________________________________________________________________\n"
     ]
    }
   ],
   "source": [
    "from tensorflow.keras.models import Sequential\n",
    "from tensorflow.keras.layers import Conv2D, MaxPooling2D, Flatten, Dropout, Dense\n",
    "\n",
    "# Define the input shape\n",
    "input_shape = (img_rows, img_cols, 1)\n",
    "\n",
    "# Define feature layers\n",
    "feature_layers = [\n",
    "    Conv2D(filters=32, kernel_size=(3, 3), activation='relu', input_shape=input_shape),\n",
    "    MaxPooling2D(pool_size=(2, 2)),\n",
    "    Conv2D(filters=64, kernel_size=(3, 3), activation='relu'),\n",
    "    MaxPooling2D(pool_size=(2, 2)),\n",
    "    Flatten(),\n",
    "    Dropout(0.25)\n",
    "]\n",
    "\n",
    "# Define classification layers\n",
    "classification_layers = [\n",
    "    Dense(units=128, activation='relu'),\n",
    "    Dropout(0.5),\n",
    "    Dense(units=num_classes, activation='softmax')\n",
    "]\n",
    "\n",
    "# Create a sequential model and add the layers\n",
    "model = Sequential(feature_layers + classification_layers)\n",
    "\n",
    "# Print the model summary\n",
    "model.summary()\n"
   ]
  },
  {
   "cell_type": "code",
   "execution_count": 16,
   "id": "f2bf7c17",
   "metadata": {},
   "outputs": [],
   "source": [
    "#5.define the'cIassification' layers"
   ]
  },
  {
   "cell_type": "code",
   "execution_count": 21,
   "id": "a23d4659",
   "metadata": {},
   "outputs": [],
   "source": [
    "classification_layers=[Dense(128,activation='relu'), Dropout(0.5),\n",
    "Dense(5,activation='softmax')]"
   ]
  },
  {
   "cell_type": "code",
   "execution_count": 22,
   "id": "0eb6bdc6",
   "metadata": {},
   "outputs": [],
   "source": [
    "#6.define a sequential model"
   ]
  },
  {
   "cell_type": "code",
   "execution_count": 23,
   "id": "87be1047",
   "metadata": {},
   "outputs": [
    {
     "name": "stdout",
     "output_type": "stream",
     "text": [
      "Model: \"sequential_2\"\n",
      "_________________________________________________________________\n",
      " Layer (type)                Output Shape              Param #   \n",
      "=================================================================\n",
      " conv2d_2 (Conv2D)           (None, 26, 26, 32)        320       \n",
      "                                                                 \n",
      " max_pooling2d_1 (MaxPoolin  (None, 13, 13, 32)        0         \n",
      " g2D)                                                            \n",
      "                                                                 \n",
      " conv2d_3 (Conv2D)           (None, 11, 11, 64)        18496     \n",
      "                                                                 \n",
      " max_pooling2d_2 (MaxPoolin  (None, 5, 5, 64)          0         \n",
      " g2D)                                                            \n",
      "                                                                 \n",
      " flatten_1 (Flatten)         (None, 1600)              0         \n",
      "                                                                 \n",
      " dropout_2 (Dropout)         (None, 1600)              0         \n",
      "                                                                 \n",
      " dense_4 (Dense)             (None, 128)               204928    \n",
      "                                                                 \n",
      " dropout_4 (Dropout)         (None, 128)               0         \n",
      "                                                                 \n",
      " dense_5 (Dense)             (None, 5)                 645       \n",
      "                                                                 \n",
      "=================================================================\n",
      "Total params: 224389 (876.52 KB)\n",
      "Trainable params: 224389 (876.52 KB)\n",
      "Non-trainable params: 0 (0.00 Byte)\n",
      "_________________________________________________________________\n"
     ]
    }
   ],
   "source": [
    "model=Sequential(feature_layers+classification_layers) \n",
    "model.summary()"
   ]
  },
  {
   "cell_type": "code",
   "execution_count": 24,
   "id": "22ed9468",
   "metadata": {},
   "outputs": [],
   "source": [
    "#7.create a function train model()"
   ]
  },
  {
   "cell_type": "code",
   "execution_count": 28,
   "id": "c3d09da7",
   "metadata": {},
   "outputs": [],
   "source": [
    "def train_model(model, train, test, num_classes):\n",
    "    train[0] = train[0].reshape(train[0].shape[0], img_rows, img_cols, 1)\n",
    "    test[0] = test[0].reshape(test[0].shape[0], img_rows, img_cols, 1)\n",
    "    train[0] = train[0].astype('float32')\n",
    "    test[0] = test[0].astype('float32')\n",
    "    train[0] /= 255\n",
    "    test[0] /= 255\n",
    "    print(train[0].shape)\n",
    "    print(test[0].shape)\n",
    "    s = pd.Series(train[1])\n",
    "    train[1] = pd.get_dummies(s)\n",
    "    train[1] = train[1].values\n",
    "    s = pd.Series(test[1])\n",
    "    test[1] = pd.get_dummies(s)\n",
    "    test[1] = test[1].values\n",
    "    model.compile(optimizer='adadelta', loss='categorical_crossentropy', metrics=['accuracy'])\n",
    "    train_start_time = now()\n",
    "    model.fit(train[0], train[1], epochs=epochs, verbose=2)\n",
    "    print('--------------------------------------------------------')\n",
    "    print('\\n')\n",
    "    print('Training time: %s' % (now() - train_start_time))\n",
    "    score = model.evaluate(test[0], test[1], verbose=0)\n",
    "    print('test loss ', score[0])\n",
    "    print('test accuracy ', score[1])"
   ]
  },
  {
   "cell_type": "code",
   "execution_count": 29,
   "id": "9ecf9a17",
   "metadata": {},
   "outputs": [],
   "source": [
    "#8.training on digits 5 to 9"
   ]
  },
  {
   "cell_type": "code",
   "execution_count": 30,
   "id": "b030f427",
   "metadata": {},
   "outputs": [
    {
     "name": "stdout",
     "output_type": "stream",
     "text": [
      "(29404, 28, 28, 1)\n",
      "(4861, 28, 28, 1)\n",
      "Epoch 1/5\n",
      "919/919 - 64s - loss: 1.5936 - accuracy: 0.2422 - 64s/epoch - 69ms/step\n",
      "Epoch 2/5\n",
      "919/919 - 56s - loss: 1.5588 - accuracy: 0.3141 - 56s/epoch - 61ms/step\n",
      "Epoch 3/5\n",
      "919/919 - 72s - loss: 1.5242 - accuracy: 0.3789 - 72s/epoch - 78ms/step\n",
      "Epoch 4/5\n",
      "919/919 - 74s - loss: 1.4882 - accuracy: 0.4349 - 74s/epoch - 80ms/step\n",
      "Epoch 5/5\n",
      "919/919 - 60s - loss: 1.4478 - accuracy: 0.4829 - 60s/epoch - 65ms/step\n",
      "--------------------------------------------------------\n",
      "\n",
      "\n",
      "Training time: 0:05:25.148854\n",
      "test loss  1.3894799947738647\n",
      "test accuracy  0.7389426231384277\n"
     ]
    }
   ],
   "source": [
    "train_model(model,[x_train_gte5,y_train_gte5],[x_test_gte5,y_test_gte5],num_classes) "
   ]
  },
  {
   "cell_type": "code",
   "execution_count": 31,
   "id": "69cf8c01",
   "metadata": {},
   "outputs": [],
   "source": [
    "#9.freeze feature layers"
   ]
  },
  {
   "cell_type": "code",
   "execution_count": 37,
   "id": "7ccb8547",
   "metadata": {},
   "outputs": [],
   "source": [
    "for l in feature_layers: \n",
    "    l.trainable = False"
   ]
  },
  {
   "cell_type": "code",
   "execution_count": 34,
   "id": "0aa9880d",
   "metadata": {},
   "outputs": [],
   "source": [
    "#10.print summary"
   ]
  },
  {
   "cell_type": "code",
   "execution_count": 38,
   "id": "b3835165",
   "metadata": {},
   "outputs": [
    {
     "name": "stdout",
     "output_type": "stream",
     "text": [
      "Model: \"sequential_2\"\n",
      "_________________________________________________________________\n",
      " Layer (type)                Output Shape              Param #   \n",
      "=================================================================\n",
      " conv2d_2 (Conv2D)           (None, 26, 26, 32)        320       \n",
      "                                                                 \n",
      " max_pooling2d_1 (MaxPoolin  (None, 13, 13, 32)        0         \n",
      " g2D)                                                            \n",
      "                                                                 \n",
      " conv2d_3 (Conv2D)           (None, 11, 11, 64)        18496     \n",
      "                                                                 \n",
      " max_pooling2d_2 (MaxPoolin  (None, 5, 5, 64)          0         \n",
      " g2D)                                                            \n",
      "                                                                 \n",
      " flatten_1 (Flatten)         (None, 1600)              0         \n",
      "                                                                 \n",
      " dropout_2 (Dropout)         (None, 1600)              0         \n",
      "                                                                 \n",
      " dense_4 (Dense)             (None, 128)               204928    \n",
      "                                                                 \n",
      " dropout_4 (Dropout)         (None, 128)               0         \n",
      "                                                                 \n",
      " dense_5 (Dense)             (None, 5)                 645       \n",
      "                                                                 \n",
      "=================================================================\n",
      "Total params: 224389 (876.52 KB)\n",
      "Trainable params: 205573 (803.02 KB)\n",
      "Non-trainable params: 18816 (73.50 KB)\n",
      "_________________________________________________________________\n"
     ]
    }
   ],
   "source": [
    "model.summary()"
   ]
  },
  {
   "cell_type": "code",
   "execution_count": 36,
   "id": "767dd491",
   "metadata": {},
   "outputs": [],
   "source": [
    "#11.training for digits 0 to 4 based on digits 5 to 9"
   ]
  },
  {
   "cell_type": "code",
   "execution_count": 40,
   "id": "9f9fcfe7",
   "metadata": {},
   "outputs": [
    {
     "name": "stdout",
     "output_type": "stream",
     "text": [
      "Model: \"sequential_3\"\n",
      "_________________________________________________________________\n",
      " Layer (type)                Output Shape              Param #   \n",
      "=================================================================\n",
      " conv2d_4 (Conv2D)           (None, 26, 26, 32)        320       \n",
      "                                                                 \n",
      " conv2d_5 (Conv2D)           (None, 24, 24, 32)        9248      \n",
      "                                                                 \n",
      " max_pooling2d_3 (MaxPoolin  (None, 12, 12, 32)        0         \n",
      " g2D)                                                            \n",
      "                                                                 \n",
      " dropout_5 (Dropout)         (None, 12, 12, 32)        0         \n",
      "                                                                 \n",
      " flatten_2 (Flatten)         (None, 4608)              0         \n",
      "                                                                 \n",
      " dense_6 (Dense)             (None, 128)               589952    \n",
      "                                                                 \n",
      " dropout_6 (Dropout)         (None, 128)               0         \n",
      "                                                                 \n",
      " dense_7 (Dense)             (None, 5)                 645       \n",
      "                                                                 \n",
      "=================================================================\n",
      "Total params: 600165 (2.29 MB)\n",
      "Trainable params: 600165 (2.29 MB)\n",
      "Non-trainable params: 0 (0.00 Byte)\n",
      "_________________________________________________________________\n"
     ]
    }
   ],
   "source": [
    "from tensorflow.keras.models import Sequential\n",
    "from tensorflow.keras.layers import Conv2D, MaxPooling2D, Dropout, Flatten, Dense\n",
    "\n",
    "# Define the input shape\n",
    "INPUT_SHAPE = (img_rows, img_cols, 1)\n",
    "\n",
    "# Define the number of filters, kernel size, and pool size\n",
    "filters = 32\n",
    "kernel_size = (3, 3)\n",
    "pool_size = (2, 2)\n",
    "\n",
    "# Define the feature layers\n",
    "feature_layers = [\n",
    "    Conv2D(filters=filters, kernel_size=kernel_size, activation='relu', input_shape=INPUT_SHAPE),\n",
    "    Conv2D(filters=filters, kernel_size=kernel_size, activation='relu'),\n",
    "    MaxPooling2D(pool_size=pool_size),\n",
    "    Dropout(0.25),\n",
    "    Flatten()\n",
    "]\n",
    "\n",
    "# Define the classification layers\n",
    "classification_layers = [\n",
    "    Dense(128, activation='relu'),\n",
    "    Dropout(0.5),\n",
    "    Dense(5, activation='softmax')\n",
    "]\n",
    "\n",
    "# Create the model\n",
    "modelR = Sequential(feature_layers + classification_layers)\n",
    "\n",
    "# Print the model summary\n",
    "modelR.summary()\n"
   ]
  },
  {
   "cell_type": "code",
   "execution_count": 41,
   "id": "b22c17e7",
   "metadata": {},
   "outputs": [
    {
     "name": "stdout",
     "output_type": "stream",
     "text": [
      "(30596, 28, 28, 1)\n",
      "(5139, 28, 28, 1)\n",
      "Epoch 1/5\n",
      "957/957 - 169s - loss: 1.5557 - accuracy: 0.3695 - 169s/epoch - 176ms/step\n",
      "Epoch 2/5\n",
      "957/957 - 140s - loss: 1.4307 - accuracy: 0.5894 - 140s/epoch - 146ms/step\n",
      "Epoch 3/5\n",
      "957/957 - 165s - loss: 1.2591 - accuracy: 0.7210 - 165s/epoch - 172ms/step\n",
      "Epoch 4/5\n",
      "957/957 - 134s - loss: 1.0486 - accuracy: 0.8004 - 134s/epoch - 140ms/step\n",
      "Epoch 5/5\n",
      "957/957 - 118s - loss: 0.8320 - accuracy: 0.8445 - 118s/epoch - 123ms/step\n",
      "--------------------------------------------------------\n",
      "\n",
      "\n",
      "Training time: 0:12:05.145156\n",
      "test loss  0.6286032199859619\n",
      "test accuracy  0.9342284202575684\n"
     ]
    }
   ],
   "source": [
    "train_model(modelR,[x_train_lt5,y_train_lt5],[x_test_lt5,y_test_lt5],num_classes)"
   ]
  }
 ],
 "metadata": {
  "kernelspec": {
   "display_name": "Python 3 (ipykernel)",
   "language": "python",
   "name": "python3"
  },
  "language_info": {
   "codemirror_mode": {
    "name": "ipython",
    "version": 3
   },
   "file_extension": ".py",
   "mimetype": "text/x-python",
   "name": "python",
   "nbconvert_exporter": "python",
   "pygments_lexer": "ipython3",
   "version": "3.9.13"
  }
 },
 "nbformat": 4,
 "nbformat_minor": 5
}
