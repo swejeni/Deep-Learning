{
 "cells": [
  {
   "cell_type": "markdown",
   "id": "e5456efd",
   "metadata": {},
   "source": [
    "# PDL Lab4.: Image corpus creation and binary classification using DNN"
   ]
  },
  {
   "cell_type": "code",
   "execution_count": 49,
   "id": "f18d99f5",
   "metadata": {},
   "outputs": [],
   "source": [
    "import os\n",
    "import cv2\n",
    "import numpy as np\n",
    "from keras.models import Sequential\n",
    "from keras.layers import Dense, Flatten\n",
    "from keras.optimizers import Adam\n",
    "from sklearn.model_selection import train_test_split"
   ]
  },
  {
   "cell_type": "code",
   "execution_count": 50,
   "id": "986ea6a8",
   "metadata": {},
   "outputs": [],
   "source": [
    "barn_owl_folder = \"C:/Users/2mscdsa08/Desktop/owl\"\n",
    "similar_images_folder = 'C:/Users/2mscdsa08/Desktop/apple'"
   ]
  },
  {
   "cell_type": "code",
   "execution_count": 51,
   "id": "b055ff90",
   "metadata": {},
   "outputs": [],
   "source": [
    "images = []\n",
    "labels = []\n",
    "\n",
    "# Read barn owl images\n",
    "for filename in os.listdir(barn_owl_folder):\n",
    "    if not filename.endswith(('.jpg', '.jpeg', '.png')):\n",
    "        continue\n",
    "    \n",
    "    image_path = os.path.join(barn_owl_folder, filename)\n",
    "    image = cv2.imread(image_path)\n",
    "    image = cv2.resize(image, (64, 64))\n",
    "    image = image / 255.0\n",
    "    \n",
    "    images.append(image)\n",
    "    labels.append(0)  # Label 0 for barn owls\n"
   ]
  },
  {
   "cell_type": "code",
   "execution_count": 52,
   "id": "b4c2f30a",
   "metadata": {},
   "outputs": [],
   "source": [
    "# Read similar images\n",
    "for filename in os.listdir(similar_images_folder):\n",
    "    if not filename.endswith(('.jpg', '.jpeg', '.png')):\n",
    "        continue\n",
    "    \n",
    "    image_path = os.path.join(similar_images_folder, filename)\n",
    "    image = cv2.imread(image_path)\n",
    "    image = cv2.resize(image, (64, 64))\n",
    "    image = image / 255.0\n",
    "    \n",
    "    images.append(image)\n",
    "    labels.append(1)  # Label 1 for similar images"
   ]
  },
  {
   "cell_type": "code",
   "execution_count": 53,
   "id": "11e4bd81",
   "metadata": {},
   "outputs": [],
   "source": [
    "# Convert the lists to numpy arrays\n",
    "images = np.array(images)\n",
    "labels = np.array(labels)"
   ]
  },
  {
   "cell_type": "code",
   "execution_count": 54,
   "id": "1ccc1073",
   "metadata": {},
   "outputs": [],
   "source": [
    "X_train, X_test, y_train, y_test = train_test_split(images, labels, test_size=0.2, random_state=42)"
   ]
  },
  {
   "cell_type": "code",
   "execution_count": 55,
   "id": "ba2e3610",
   "metadata": {},
   "outputs": [],
   "source": [
    "# Define the model\n",
    "model = Sequential()\n",
    "model.add(Flatten(input_shape=(64, 64, 3)))\n",
    "model.add(Dense(64, activation='relu'))\n",
    "model.add(Dense(1, activation='sigmoid'))"
   ]
  },
  {
   "cell_type": "code",
   "execution_count": 56,
   "id": "58e053c3",
   "metadata": {},
   "outputs": [],
   "source": [
    "# Compile the model\n",
    "model.compile(optimizer=Adam(learning_rate=0.001), loss='binary_crossentropy', metrics=['accuracy'])"
   ]
  },
  {
   "cell_type": "code",
   "execution_count": 57,
   "id": "98862b91",
   "metadata": {},
   "outputs": [
    {
     "name": "stdout",
     "output_type": "stream",
     "text": [
      "Epoch 1/10\n",
      "1/1 [==============================] - 1s 551ms/step - loss: 0.7043 - accuracy: 0.5714\n",
      "Epoch 2/10\n",
      "1/1 [==============================] - 0s 39ms/step - loss: 5.8556 - accuracy: 0.4286\n",
      "Epoch 3/10\n",
      "1/1 [==============================] - 0s 7ms/step - loss: 2.2219 - accuracy: 0.5714\n",
      "Epoch 4/10\n",
      "1/1 [==============================] - 0s 38ms/step - loss: 2.5482 - accuracy: 0.5714\n",
      "Epoch 5/10\n",
      "1/1 [==============================] - 0s 38ms/step - loss: 0.8106 - accuracy: 0.5714\n",
      "Epoch 6/10\n",
      "1/1 [==============================] - 0s 12ms/step - loss: 1.8267 - accuracy: 0.4286\n",
      "Epoch 7/10\n",
      "1/1 [==============================] - 0s 9ms/step - loss: 1.2678 - accuracy: 0.4286\n",
      "Epoch 8/10\n",
      "1/1 [==============================] - 0s 40ms/step - loss: 0.2648 - accuracy: 0.9286\n",
      "Epoch 9/10\n",
      "1/1 [==============================] - 0s 13ms/step - loss: 1.0379 - accuracy: 0.5714\n",
      "Epoch 10/10\n",
      "1/1 [==============================] - 0s 7ms/step - loss: 0.9499 - accuracy: 0.5714\n"
     ]
    },
    {
     "data": {
      "text/plain": [
       "<keras.callbacks.History at 0x2597f7ecfd0>"
      ]
     },
     "execution_count": 57,
     "metadata": {},
     "output_type": "execute_result"
    }
   ],
   "source": [
    "# Train the model\n",
    "model.fit(X_train, y_train, epochs=10, batch_size=32)"
   ]
  },
  {
   "cell_type": "code",
   "execution_count": 34,
   "id": "6d2105ba",
   "metadata": {},
   "outputs": [
    {
     "name": "stdout",
     "output_type": "stream",
     "text": [
      "1/1 [==============================] - 0s 305ms/step - loss: 0.0756 - accuracy: 1.0000\n",
      "Test Loss: 0.07557893544435501\n",
      "Test Accuracy: 1.0\n"
     ]
    }
   ],
   "source": [
    "# Evaluate the model on test set\n",
    "loss, accuracy = model.evaluate(X_test, y_test)\n",
    "print(\"Test Loss:\", loss)\n",
    "print(\"Test Accuracy:\", accuracy)"
   ]
  },
  {
   "cell_type": "code",
   "execution_count": 35,
   "id": "5ac45c55",
   "metadata": {},
   "outputs": [
    {
     "name": "stdout",
     "output_type": "stream",
     "text": [
      "1/1 [==============================] - 0s 58ms/step\n"
     ]
    }
   ],
   "source": [
    "# Predict class labels for test images\n",
    "test_predictions = model.predict(X_test)"
   ]
  },
  {
   "cell_type": "code",
   "execution_count": 36,
   "id": "b4a0fe27",
   "metadata": {},
   "outputs": [],
   "source": [
    "# Convert probabilities to class labels (0 or 1)\n",
    "test_predictions = np.round(test_predictions).flatten()"
   ]
  },
  {
   "cell_type": "code",
   "execution_count": 37,
   "id": "b4ca04d4",
   "metadata": {},
   "outputs": [
    {
     "name": "stdout",
     "output_type": "stream",
     "text": [
      "Predicted Labels: [0. 0. 0. 0.]\n",
      "Actual Labels: [0 0 0 0]\n"
     ]
    }
   ],
   "source": [
    "# Print the predicted labels and the actual labels\n",
    "print(\"Predicted Labels:\", test_predictions)\n",
    "print(\"Actual Labels:\", y_test)"
   ]
  },
  {
   "cell_type": "code",
   "execution_count": 38,
   "id": "5b5308ac",
   "metadata": {},
   "outputs": [],
   "source": [
    "# Save the image corpus and labels\n",
    "np.save('image_corpus.npy', image_corpus)\n",
    "np.save('labels.npy', labels)"
   ]
  },
  {
   "cell_type": "code",
   "execution_count": 39,
   "id": "026012b6",
   "metadata": {},
   "outputs": [
    {
     "name": "stdout",
     "output_type": "stream",
     "text": [
      "Image Corpus shape: (18, 1)\n",
      "Image Corpus:\n",
      "[[0.54886806]\n",
      " [0.5354678 ]\n",
      " [0.5491303 ]\n",
      " [0.5677061 ]\n",
      " [0.550068  ]\n",
      " [0.52372587]\n",
      " [0.5308342 ]\n",
      " [0.5455766 ]\n",
      " [0.55411303]\n",
      " [0.55990237]\n",
      " [0.5908376 ]\n",
      " [0.594258  ]\n",
      " [0.5926563 ]\n",
      " [0.5691223 ]\n",
      " [0.6011374 ]\n",
      " [0.58412766]\n",
      " [0.60285765]\n",
      " [0.6070214 ]]\n",
      "\n",
      "Labels shape: (18,)\n",
      "Labels:\n",
      "[0 0 0 0 0 0 0 0 0 0 1 1 1 1 1 1 1 1]\n"
     ]
    }
   ],
   "source": [
    "# Load the image corpus and labels\n",
    "image_corpus = np.load('image_corpus.npy')\n",
    "labels = np.load('labels.npy')\n",
    "\n",
    "# Print the shapes and contents of the loaded arrays\n",
    "print(\"Image Corpus shape:\", image_corpus.shape)\n",
    "print(\"Image Corpus:\")\n",
    "print(image_corpus)\n",
    "\n",
    "print(\"\\nLabels shape:\", labels.shape)\n",
    "print(\"Labels:\")\n",
    "print(labels)\n"
   ]
  },
  {
   "cell_type": "code",
   "execution_count": null,
   "id": "80d7677e",
   "metadata": {},
   "outputs": [],
   "source": []
  }
 ],
 "metadata": {
  "kernelspec": {
   "display_name": "Python 3 (ipykernel)",
   "language": "python",
   "name": "python3"
  },
  "language_info": {
   "codemirror_mode": {
    "name": "ipython",
    "version": 3
   },
   "file_extension": ".py",
   "mimetype": "text/x-python",
   "name": "python",
   "nbconvert_exporter": "python",
   "pygments_lexer": "ipython3",
   "version": "3.9.13"
  }
 },
 "nbformat": 4,
 "nbformat_minor": 5
}
