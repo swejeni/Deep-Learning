{
 "cells": [
  {
   "cell_type": "markdown",
   "metadata": {},
   "source": [
    "### PDL Lab1: Python Functions and Numpy"
   ]
  },
  {
   "cell_type": "code",
   "execution_count": 1,
   "metadata": {},
   "outputs": [],
   "source": [
    "# PART-I Write a method for sigmoid function"
   ]
  },
  {
   "cell_type": "code",
   "execution_count": 2,
   "metadata": {},
   "outputs": [],
   "source": [
    "#1. Write a function, mysigmoid(x), that takes the real number x and returns the sigmoid value using math.exp().\n",
    "import math\n",
    "def mysigmoid(x):\n",
    "    return 1 / (1 + math.exp(-x))"
   ]
  },
  {
   "cell_type": "code",
   "execution_count": 3,
   "metadata": {},
   "outputs": [
    {
     "name": "stdout",
     "output_type": "stream",
     "text": [
      "Sigmoid value of 4: 0.9820137900379085\n"
     ]
    }
   ],
   "source": [
    "#2. Call mysigmoid() with x=4 and print the sigmoid value of 4\n",
    "x = 4\n",
    "sig= mysigmoid(x)\n",
    "print(\"Sigmoid value of 4:\", sig)"
   ]
  },
  {
   "cell_type": "code",
   "execution_count": 4,
   "metadata": {},
   "outputs": [
    {
     "name": "stdout",
     "output_type": "stream",
     "text": [
      "Sigmoid values for x=[1, 2, 3]: [0.7310585786300049, 0.8807970779778823, 0.9525741268224334]\n"
     ]
    }
   ],
   "source": [
    "#3. Now, find the sigmoid values for x=[1, 2, 3]. Observe the results.\n",
    "x = [1, 2, 3]\n",
    "sig = [mysigmoid(val) for val in x]\n",
    "print(\"Sigmoid values for x=[1, 2, 3]:\", sig)"
   ]
  },
  {
   "cell_type": "code",
   "execution_count": 5,
   "metadata": {},
   "outputs": [],
   "source": [
    "#4. Rewrite mysigmoid() using np.exp() function\n",
    "import numpy as np\n",
    "def mysigmoid(x):\n",
    "    return 1 / (1 + np.exp(-x))"
   ]
  },
  {
   "cell_type": "code",
   "execution_count": 6,
   "metadata": {},
   "outputs": [
    {
     "name": "stdout",
     "output_type": "stream",
     "text": [
      "Sigmoid values for x=[1, 2, 3]  [0.7310585786300049, 0.8807970779778823, 0.9525741268224334]\n"
     ]
    }
   ],
   "source": [
    "#5. Now call your function with x=[1, 2, 3] and observe the results\n",
    "x = [1, 2, 3]\n",
    "sig = [mysigmoid(val) for val in x]\n",
    "print(\"Sigmoid values for x=[1, 2, 3] \", sig)"
   ]
  },
  {
   "cell_type": "code",
   "execution_count": 7,
   "metadata": {},
   "outputs": [],
   "source": [
    "#PART-II: Gradient or derivative of sigmoid function"
   ]
  },
  {
   "cell_type": "code",
   "execution_count": 8,
   "metadata": {},
   "outputs": [
    {
     "name": "stdout",
     "output_type": "stream",
     "text": [
      "Gradient of sigmoid(4): 0.006648056670790033\n"
     ]
    }
   ],
   "source": [
    "def sig_derivative(s):\n",
    "    return s * (1 - s)\n",
    "x = 5\n",
    "sigm=mysigmoid(x)\n",
    "gradient = sig_derivative(sigm)\n",
    "print(\"Gradient of sigmoid(4):\", gradient)"
   ]
  },
  {
   "cell_type": "code",
   "execution_count": 9,
   "metadata": {},
   "outputs": [],
   "source": [
    "#Part-III: Write a method image_to_vector()"
   ]
  },
  {
   "cell_type": "code",
   "execution_count": 10,
   "metadata": {
    "scrolled": true
   },
   "outputs": [
    {
     "name": "stdout",
     "output_type": "stream",
     "text": [
      "Vector shape: (18, 1)\n",
      "Vector:\n",
      "[[ 1]\n",
      " [ 2]\n",
      " [ 3]\n",
      " [ 4]\n",
      " [ 5]\n",
      " [ 6]\n",
      " [ 7]\n",
      " [ 8]\n",
      " [ 9]\n",
      " [10]\n",
      " [11]\n",
      " [12]\n",
      " [13]\n",
      " [14]\n",
      " [15]\n",
      " [16]\n",
      " [17]\n",
      " [18]]\n"
     ]
    }
   ],
   "source": [
    "def image_to_vector(image):\n",
    "    length, height, channels = image.shape\n",
    "    vector = image.reshape((length * height * channels, 1))\n",
    "    return vector\n",
    "image = np.array([\n",
    "    [[1, 2, 3], [4, 5, 6]],\n",
    "    [[7, 8, 9], [10, 11, 12]],\n",
    "    [[13, 14, 15], [16, 17, 18]]])\n",
    "vector = image_to_vector(image)\n",
    "print(\"Vector shape:\", vector.shape)\n",
    "print(\"Vector:\")\n",
    "print(vector)"
   ]
  },
  {
   "cell_type": "code",
   "execution_count": 11,
   "metadata": {
    "scrolled": true
   },
   "outputs": [
    {
     "name": "stdout",
     "output_type": "stream",
     "text": [
      "Vector shape: (27, 1)\n",
      "Vector:\n",
      "[[255]\n",
      " [  0]\n",
      " [  0]\n",
      " [  0]\n",
      " [255]\n",
      " [  0]\n",
      " [  0]\n",
      " [  0]\n",
      " [255]\n",
      " [255]\n",
      " [255]\n",
      " [  0]\n",
      " [255]\n",
      " [  0]\n",
      " [255]\n",
      " [  0]\n",
      " [255]\n",
      " [255]\n",
      " [128]\n",
      " [128]\n",
      " [128]\n",
      " [ 64]\n",
      " [ 64]\n",
      " [ 64]\n",
      " [192]\n",
      " [192]\n",
      " [192]]\n"
     ]
    }
   ],
   "source": [
    "def image_to_vector(image):\n",
    "    length, height, channels = image.shape\n",
    "    vector = image.reshape((length * height * channels, 1))\n",
    "    return vector\n",
    "image = np.array([\n",
    "    [[255, 0, 0], [0, 255, 0], [0, 0, 255]],\n",
    "    [[255, 255, 0], [255, 0, 255], [0, 255, 255]],\n",
    "    [[128, 128, 128], [64, 64, 64], [192, 192, 192]]\n",
    "])\n",
    "vector = image_to_vector(image)\n",
    "print(\"Vector shape:\", vector.shape)\n",
    "print(\"Vector:\")\n",
    "print(vector)"
   ]
  },
  {
   "cell_type": "code",
   "execution_count": 12,
   "metadata": {},
   "outputs": [],
   "source": [
    "#Part-IV: Write a method normalizeRows()"
   ]
  },
  {
   "cell_type": "code",
   "execution_count": 13,
   "metadata": {},
   "outputs": [
    {
     "name": "stdout",
     "output_type": "stream",
     "text": [
      "Normalized matrix:\n",
      "[[0.26726124 0.53452248 0.80178373]\n",
      " [0.45584231 0.56980288 0.68376346]\n",
      " [0.50257071 0.57436653 0.64616234]]\n"
     ]
    }
   ],
   "source": [
    "def normalizeRows(x):\n",
    "    norms = np.linalg.norm(x, axis=1, keepdims=True)\n",
    "    return x / norms\n",
    "x = np.array([\n",
    "    [1, 2, 3],\n",
    "    [4, 5, 6],\n",
    "    [7, 8, 9]\n",
    "])\n",
    "normalized_x = normalizeRows(x)\n",
    "print(\"Normalized matrix:\")\n",
    "print(normalized_x)"
   ]
  },
  {
   "cell_type": "code",
   "execution_count": 14,
   "metadata": {},
   "outputs": [],
   "source": [
    "#Part-V: Multiplication and Vectorization Operations"
   ]
  },
  {
   "cell_type": "code",
   "execution_count": 15,
   "metadata": {},
   "outputs": [
    {
     "name": "stdout",
     "output_type": "stream",
     "text": [
      "Multiplication: [63  4 10]\n",
      "Dot product: 77\n"
     ]
    }
   ],
   "source": [
    "#1)A)\n",
    "x1 = np.array([9, 2, 5])\n",
    "x2 = np.array([7, 2, 2])\n",
    "mul_result = np.multiply(x1, x2)\n",
    "print(\"Multiplication:\", mul_result)\n",
    "dot_result = np.dot(x1, x2)\n",
    "print(\"Dot product:\", dot_result)"
   ]
  },
  {
   "cell_type": "code",
   "execution_count": 16,
   "metadata": {},
   "outputs": [
    {
     "name": "stdout",
     "output_type": "stream",
     "text": [
      "Multiplication: [63  4 10  0  0 63 10  0  0  0 81  4 25  0  0 32 25 21]\n",
      "Dot product: 338\n"
     ]
    }
   ],
   "source": [
    "#B)\n",
    "x1 = np.array([9, 2, 5, 0, 0, 7, 5, 0, 0, 0, 9, 2, 5, 0, 0, 4, 5, 7])\n",
    "x2 = np.array([7, 2, 2, 9, 0, 9, 2, 5, 0, 0, 9, 2, 5, 0, 0, 8, 5, 3])\n",
    "mul_fun = np.multiply(x1, x2)\n",
    "print(\"Multiplication:\", mul_fun)\n",
    "dot_fun = np.dot(x1, x2)\n",
    "print(\"Dot product:\", dot_fun)"
   ]
  },
  {
   "cell_type": "code",
   "execution_count": 17,
   "metadata": {},
   "outputs": [
    {
     "name": "stdout",
     "output_type": "stream",
     "text": [
      "Multiplication time: 0.0\n",
      "Vectorization (dot product) time: 0.20307421684265137\n"
     ]
    }
   ],
   "source": [
    "#2)\n",
    "import time\n",
    "N = 1000000 \n",
    "x1 = np.random.random(N)\n",
    "x2 = np.random.random(N)\n",
    "start_time = time.time()\n",
    "mul_result = np.multiply(x1, x2)\n",
    "end_time = time.time()\n",
    "mul_time = end_time - start_time\n",
    "start_time = time.time()\n",
    "dot_result = np.dot(x1, x2)\n",
    "end_time = time.time()\n",
    "dot_time = end_time - start_time\n",
    "print(\"Multiplication time:\", mul_time)\n",
    "print(\"Vectorization (dot product) time:\", dot_time)"
   ]
  },
  {
   "cell_type": "code",
   "execution_count": 18,
   "metadata": {},
   "outputs": [],
   "source": [
    "#Part-VI: Implement L1 and L2 loss functions"
   ]
  },
  {
   "cell_type": "code",
   "execution_count": 19,
   "metadata": {},
   "outputs": [
    {
     "name": "stdout",
     "output_type": "stream",
     "text": [
      "L1 Loss: 1.1\n"
     ]
    }
   ],
   "source": [
    "#1)\n",
    "def loss_l1(y, ypred):\n",
    "    return np.sum(np.abs(y - ypred))\n",
    "y = np.array([1, 0, 0, 1, 1])\n",
    "ypred = np.array([0.9, 0.2, 0.1, 0.4, 0.9])\n",
    "l1_loss = loss_l1(y, ypred)\n",
    "print(\"L1 Loss:\", l1_loss)"
   ]
  },
  {
   "cell_type": "code",
   "execution_count": 20,
   "metadata": {},
   "outputs": [
    {
     "name": "stdout",
     "output_type": "stream",
     "text": [
      "L2 Loss: 0.43\n"
     ]
    }
   ],
   "source": [
    "#2)\n",
    "def loss_l2(y, ypred):\n",
    "    return np.sum(np.square(y - ypred))\n",
    "y = np.array([1, 0, 0, 1, 1])\n",
    "ypred = np.array([0.9, 0.2, 0.1, 0.4, 0.9])\n",
    "l2_loss = loss_l2(y, ypred)\n",
    "print(\"L2 Loss:\", l2_loss)"
   ]
  }
 ],
 "metadata": {
  "kernelspec": {
   "display_name": "Python 3 (ipykernel)",
   "language": "python",
   "name": "python3"
  },
  "language_info": {
   "codemirror_mode": {
    "name": "ipython",
    "version": 3
   },
   "file_extension": ".py",
   "mimetype": "text/x-python",
   "name": "python",
   "nbconvert_exporter": "python",
   "pygments_lexer": "ipython3",
   "version": "3.9.13"
  }
 },
 "nbformat": 4,
 "nbformat_minor": 2
}
