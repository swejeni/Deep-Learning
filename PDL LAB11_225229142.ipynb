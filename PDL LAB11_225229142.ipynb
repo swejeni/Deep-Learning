{
 "cells": [
  {
   "cell_type": "markdown",
   "id": "53a3bfde",
   "metadata": {},
   "source": [
    "#### SWETHA JENIFER S\n",
    "#### 225229142"
   ]
  },
  {
   "cell_type": "markdown",
   "id": "d3dbf5de",
   "metadata": {},
   "source": [
    "### PDL Lab11. Exploration of Convolutional Neural Networks Design"
   ]
  },
  {
   "cell_type": "code",
   "execution_count": 7,
   "id": "91ec8e8f",
   "metadata": {},
   "outputs": [],
   "source": [
    "from __future__ import print_function\n",
    "import keras\n",
    "from keras.datasets import cifar10\n",
    "from keras.preprocessing.image import ImageDataGenerator\n",
    "from keras.models import Sequential\n",
    "from keras.layers import Dense, Dropout, Activation, Flatten, Conv2D, MaxPooling2D\n",
    "from tensorflow.keras.utils import to_categorical  \n",
    "import tensorflow as tf\n",
    "from tensorflow.keras.optimizers import RMSprop\n",
    "import matplotlib.pyplot as plt\n",
    "%matplotlib inline"
   ]
  },
  {
   "cell_type": "code",
   "execution_count": 8,
   "id": "d25112c0",
   "metadata": {},
   "outputs": [
    {
     "name": "stdout",
     "output_type": "stream",
     "text": [
      "Downloading data from https://storage.googleapis.com/tensorflow/tf-keras-datasets/mnist.npz\n",
      "11490434/11490434 [==============================] - 4s 0us/step\n"
     ]
    }
   ],
   "source": [
    "(x_train,y_train),(x_test,y_test)=tf.keras.datasets.mnist.load_data()"
   ]
  },
  {
   "cell_type": "code",
   "execution_count": 59,
   "id": "9d941988",
   "metadata": {},
   "outputs": [
    {
     "data": {
      "text/plain": [
       "<matplotlib.image.AxesImage at 0x21323c50430>"
      ]
     },
     "execution_count": 59,
     "metadata": {},
     "output_type": "execute_result"
    },
    {
     "data": {
      "image/png": "[encoded data removed]",
      "text/plain": [
       "<Figure size 288x288 with 1 Axes>"
      ]
     },
     "metadata": {
      "needs_background": "light"
     },
     "output_type": "display_data"
    }
   ],
   "source": [
    "plt.matshow(x_train[1])"
   ]
  },
  {
   "cell_type": "code",
   "execution_count": 11,
   "id": "488ecfb0",
   "metadata": {},
   "outputs": [],
   "source": [
    "X_train = x_train.astype('float32')/255\n",
    "X_test = x_test.astype('float32')/255"
   ]
  },
  {
   "cell_type": "code",
   "execution_count": 12,
   "id": "2c59a639",
   "metadata": {},
   "outputs": [
    {
     "data": {
      "text/plain": [
       "(60000, 28, 28)"
      ]
     },
     "execution_count": 12,
     "metadata": {},
     "output_type": "execute_result"
    }
   ],
   "source": [
    "X_train.shape"
   ]
  },
  {
   "cell_type": "code",
   "execution_count": 13,
   "id": "8b895388",
   "metadata": {},
   "outputs": [
    {
     "data": {
      "text/plain": [
       "(60000,)"
      ]
     },
     "execution_count": 13,
     "metadata": {},
     "output_type": "execute_result"
    }
   ],
   "source": [
    "y_train.shape"
   ]
  },
  {
   "cell_type": "code",
   "execution_count": 19,
   "id": "21e0e33e",
   "metadata": {},
   "outputs": [],
   "source": [
    "def mod(n):\n",
    "    model = Sequential()\n",
    "    model.add(Conv2D(filters=n, kernel_size=(3, 3), activation='relu', input_shape=(28,28,1)))\n",
    "    model.add(Flatten())\n",
    "    model.add(Dense(10,activation = 'softmax'))\n",
    "    return model"
   ]
  },
  {
   "cell_type": "code",
   "execution_count": 20,
   "id": "d18d7994",
   "metadata": {},
   "outputs": [
    {
     "name": "stdout",
     "output_type": "stream",
     "text": [
      "Epoch 1/5\n",
      "1875/1875 [==============================] - 11s 4ms/step - loss: 27.3046 - accuracy: 0.1039\n",
      "Epoch 2/5\n",
      "1875/1875 [==============================] - 7s 4ms/step - loss: 27.3046 - accuracy: 0.0996\n",
      "Epoch 3/5\n",
      "1875/1875 [==============================] - 7s 4ms/step - loss: 27.3046 - accuracy: 0.0999\n",
      "Epoch 4/5\n",
      "1875/1875 [==============================] - 7s 4ms/step - loss: 27.3046 - accuracy: 0.1000\n",
      "Epoch 5/5\n",
      "1875/1875 [==============================] - 7s 4ms/step - loss: 27.3046 - accuracy: 0.1014\n"
     ]
    },
    {
     "data": {
      "text/plain": [
       "<keras.src.callbacks.History at 0x213001626d0>"
      ]
     },
     "execution_count": 20,
     "metadata": {},
     "output_type": "execute_result"
    }
   ],
   "source": [
    "model2=mod(4)\n",
    "model2.compile(optimizer='adam',loss='mean_squared_error',metrics=['accuracy'])\n",
    "model2.fit(X_train,y_train,epochs=5)\n"
   ]
  },
  {
   "cell_type": "code",
   "execution_count": 22,
   "id": "fdc29755",
   "metadata": {},
   "outputs": [
    {
     "name": "stdout",
     "output_type": "stream",
     "text": [
      "Epoch 1/5\n",
      "1875/1875 [==============================] - 13s 7ms/step - loss: 27.3046 - accuracy: 0.0985\n",
      "Epoch 2/5\n",
      "1875/1875 [==============================] - 13s 7ms/step - loss: 27.3046 - accuracy: 0.1015\n",
      "Epoch 3/5\n",
      "1875/1875 [==============================] - 13s 7ms/step - loss: 27.3046 - accuracy: 0.1008\n",
      "Epoch 4/5\n",
      "1875/1875 [==============================] - 13s 7ms/step - loss: 27.3046 - accuracy: 0.1013\n",
      "Epoch 5/5\n",
      "1875/1875 [==============================] - 13s 7ms/step - loss: 27.3046 - accuracy: 0.1006\n"
     ]
    },
    {
     "data": {
      "text/plain": [
       "<keras.src.callbacks.History at 0x2130161e6d0>"
      ]
     },
     "execution_count": 22,
     "metadata": {},
     "output_type": "execute_result"
    }
   ],
   "source": [
    "model2=mod(32)\n",
    "model2.compile(optimizer='adam',loss='mean_squared_error',metrics=['accuracy'])\n",
    "model2.fit(X_train,y_train,epochs=5)"
   ]
  },
  {
   "cell_type": "code",
   "execution_count": 24,
   "id": "3af461ce",
   "metadata": {},
   "outputs": [
    {
     "name": "stdout",
     "output_type": "stream",
     "text": [
      "Epoch 1/5\n",
      "1875/1875 [==============================] - 47s 25ms/step - loss: 27.3046 - accuracy: 0.1019\n",
      "Epoch 2/5\n",
      "1875/1875 [==============================] - 47s 25ms/step - loss: 27.3046 - accuracy: 0.0982\n",
      "Epoch 3/5\n",
      "1875/1875 [==============================] - 47s 25ms/step - loss: 27.3046 - accuracy: 0.0952\n",
      "Epoch 4/5\n",
      "1875/1875 [==============================] - 49s 26ms/step - loss: 27.3046 - accuracy: 0.0968\n",
      "Epoch 5/5\n",
      "1875/1875 [==============================] - 49s 26ms/step - loss: 27.3046 - accuracy: 0.0989\n"
     ]
    },
    {
     "data": {
      "text/plain": [
       "<keras.src.callbacks.History at 0x21301b57070>"
      ]
     },
     "execution_count": 24,
     "metadata": {},
     "output_type": "execute_result"
    }
   ],
   "source": [
    "model2=mod(128)\n",
    "model2.compile(optimizer='adam',loss='mean_squared_error',metrics=['accuracy'])\n",
    "model2.fit(X_train,y_train,epochs=5)"
   ]
  },
  {
   "cell_type": "code",
   "execution_count": 25,
   "id": "0c0efe79",
   "metadata": {},
   "outputs": [],
   "source": [
    "def mod(n):\n",
    "    model = Sequential()\n",
    "    for i in range(n):\n",
    "        model.add(Conv2D(filters=n, kernel_size=(3, 3), activation='relu', input_shape=(28,28,1)))\n",
    "        model.add(Flatten())\n",
    "        model.add(Dense(10,activation = 'softmax'))\n",
    "        return model"
   ]
  },
  {
   "cell_type": "code",
   "execution_count": 26,
   "id": "3898046f",
   "metadata": {},
   "outputs": [
    {
     "name": "stdout",
     "output_type": "stream",
     "text": [
      "Epoch 1/5\n",
      "938/938 [==============================] - 5s 4ms/step - loss: 27.3045 - accuracy: 0.1107\n",
      "Epoch 2/5\n",
      "938/938 [==============================] - 4s 4ms/step - loss: 27.3045 - accuracy: 0.1088\n",
      "Epoch 3/5\n",
      "938/938 [==============================] - 4s 4ms/step - loss: 27.3045 - accuracy: 0.1024\n",
      "Epoch 4/5\n",
      "938/938 [==============================] - 4s 4ms/step - loss: 27.3045 - accuracy: 0.1041\n",
      "Epoch 5/5\n",
      "938/938 [==============================] - 4s 4ms/step - loss: 27.3045 - accuracy: 0.1043\n"
     ]
    },
    {
     "data": {
      "text/plain": [
       "<keras.src.callbacks.History at 0x21301bf1280>"
      ]
     },
     "execution_count": 26,
     "metadata": {},
     "output_type": "execute_result"
    }
   ],
   "source": [
    "model2=mod(2)\n",
    "model2.compile(optimizer='adam',loss='mean_squared_error',metrics=['accuracy'])\n",
    "model2.fit(X_train,y_train,epochs=5,batch_size=64)\n"
   ]
  },
  {
   "cell_type": "code",
   "execution_count": 27,
   "id": "bc9c73b9",
   "metadata": {},
   "outputs": [
    {
     "name": "stdout",
     "output_type": "stream",
     "text": [
      "Epoch 1/5\n",
      "938/938 [==============================] - 5s 4ms/step - loss: 27.3045 - accuracy: 0.1003\n",
      "Epoch 2/5\n",
      "938/938 [==============================] - 4s 4ms/step - loss: 27.3045 - accuracy: 0.0951\n",
      "Epoch 3/5\n",
      "938/938 [==============================] - 5s 5ms/step - loss: 27.3045 - accuracy: 0.0949\n",
      "Epoch 4/5\n",
      "938/938 [==============================] - 4s 4ms/step - loss: 27.3045 - accuracy: 0.0950\n",
      "Epoch 5/5\n",
      "938/938 [==============================] - 4s 5ms/step - loss: 27.3045 - accuracy: 0.0958\n"
     ]
    },
    {
     "data": {
      "text/plain": [
       "<keras.src.callbacks.History at 0x2130623ed30>"
      ]
     },
     "execution_count": 27,
     "metadata": {},
     "output_type": "execute_result"
    }
   ],
   "source": [
    "model2=mod(3)\n",
    "model2.compile(optimizer='adam',loss='mean_squared_error',metrics=['accuracy'])\n",
    "model2.fit(X_train,y_train,epochs=5,batch_size=64)"
   ]
  },
  {
   "cell_type": "code",
   "execution_count": 28,
   "id": "d0993c83",
   "metadata": {},
   "outputs": [
    {
     "name": "stdout",
     "output_type": "stream",
     "text": [
      "Epoch 1/5\n",
      "938/938 [==============================] - 5s 4ms/step - loss: 27.3045 - accuracy: 0.0998\n",
      "Epoch 2/5\n",
      "938/938 [==============================] - 4s 4ms/step - loss: 27.3045 - accuracy: 0.1016\n",
      "Epoch 3/5\n",
      "938/938 [==============================] - 4s 4ms/step - loss: 27.3045 - accuracy: 0.1030\n",
      "Epoch 4/5\n",
      "938/938 [==============================] - 4s 4ms/step - loss: 27.3045 - accuracy: 0.1023\n",
      "Epoch 5/5\n",
      "938/938 [==============================] - 4s 4ms/step - loss: 27.3045 - accuracy: 0.1003\n"
     ]
    },
    {
     "data": {
      "text/plain": [
       "<keras.src.callbacks.History at 0x213062dee50>"
      ]
     },
     "execution_count": 28,
     "metadata": {},
     "output_type": "execute_result"
    }
   ],
   "source": [
    "model2=mod(4)\n",
    "model2.compile(optimizer='adam',loss='mean_squared_error',metrics=['accuracy'])\n",
    "model2.fit(X_train,y_train,epochs=5,batch_size=64)"
   ]
  },
  {
   "cell_type": "code",
   "execution_count": 29,
   "id": "3a52f4da",
   "metadata": {},
   "outputs": [
    {
     "name": "stdout",
     "output_type": "stream",
     "text": [
      "Epoch 1/5\n",
      "1875/1875 [==============================] - 8s 4ms/step - loss: 27.3046 - accuracy: 0.1008\n",
      "Epoch 2/5\n",
      "1875/1875 [==============================] - 8s 4ms/step - loss: 27.3046 - accuracy: 0.1034\n",
      "Epoch 3/5\n",
      "1875/1875 [==============================] - 8s 4ms/step - loss: 27.3046 - accuracy: 0.1024\n",
      "Epoch 4/5\n",
      "1875/1875 [==============================] - 8s 4ms/step - loss: 27.3046 - accuracy: 0.1015\n",
      "Epoch 5/5\n",
      "1875/1875 [==============================] - 9s 5ms/step - loss: 27.3046 - accuracy: 0.1020\n"
     ]
    },
    {
     "data": {
      "text/plain": [
       "<keras.src.callbacks.History at 0x21308d445e0>"
      ]
     },
     "execution_count": 29,
     "metadata": {},
     "output_type": "execute_result"
    }
   ],
   "source": [
    "model = Sequential()\n",
    "model.add(Conv2D(filters=16, kernel_size=(5,5), activation='relu', input_shape=(28,28,1)))\n",
    "model.add(Flatten())\n",
    "model.add(Dense(10,activation = 'softmax'))\n",
    "model.compile(optimizer='adam',loss='mean_squared_error',metrics=['accuracy'])\n",
    "model.fit(X_train,y_train,epochs=5)\n"
   ]
  },
  {
   "cell_type": "code",
   "execution_count": 30,
   "id": "d10b7f97",
   "metadata": {},
   "outputs": [
    {
     "name": "stdout",
     "output_type": "stream",
     "text": [
      "Epoch 1/5\n",
      "1875/1875 [==============================] - 9s 5ms/step - loss: 27.3046 - accuracy: 0.1067\n",
      "Epoch 2/5\n",
      "1875/1875 [==============================] - 8s 4ms/step - loss: 27.3046 - accuracy: 0.1022\n",
      "Epoch 3/5\n",
      "1875/1875 [==============================] - 9s 5ms/step - loss: 27.3046 - accuracy: 0.1013\n",
      "Epoch 4/5\n",
      "1875/1875 [==============================] - 8s 4ms/step - loss: 27.3046 - accuracy: 0.0981\n",
      "Epoch 5/5\n",
      "1875/1875 [==============================] - 8s 4ms/step - loss: 27.3046 - accuracy: 0.0982\n"
     ]
    },
    {
     "data": {
      "text/plain": [
       "<keras.src.callbacks.History at 0x213090aa880>"
      ]
     },
     "execution_count": 30,
     "metadata": {},
     "output_type": "execute_result"
    }
   ],
   "source": [
    "model = Sequential()\n",
    "model.add(Conv2D(filters=16, kernel_size=(7,7), activation='relu', input_shape=(28,28,1)))\n",
    "model.add(Flatten())\n",
    "model.add(Dense(10,activation = 'softmax'))\n",
    "model.compile(optimizer='adam',loss='mean_squared_error',metrics=['accuracy'])\n",
    "model.fit(X_train,y_train,epochs=5)"
   ]
  },
  {
   "cell_type": "code",
   "execution_count": 32,
   "id": "d3fc20fe",
   "metadata": {},
   "outputs": [],
   "source": [
    "def mod(n,act):\n",
    "    model = Sequential()\n",
    "    for i in range(n):\n",
    "        model.add(Conv2D(filters=16, kernel_size=(3, 3), activation=act, input_shape=(28,28,1)))\n",
    "        model.add(Flatten())\n",
    "        model.add(Dense(10,activation = 'softmax'))\n",
    "        return model\n"
   ]
  },
  {
   "cell_type": "code",
   "execution_count": 33,
   "id": "c781742c",
   "metadata": {},
   "outputs": [
    {
     "name": "stdout",
     "output_type": "stream",
     "text": [
      "Epoch 1/5\n",
      "1875/1875 [==============================] - 10s 5ms/step - loss: 27.3046 - accuracy: 0.1024\n",
      "Epoch 2/5\n",
      "1875/1875 [==============================] - 9s 5ms/step - loss: 27.3046 - accuracy: 0.1022\n",
      "Epoch 3/5\n",
      "1875/1875 [==============================] - 9s 5ms/step - loss: 27.3046 - accuracy: 0.0996\n",
      "Epoch 4/5\n",
      "1875/1875 [==============================] - 9s 5ms/step - loss: 27.3046 - accuracy: 0.1010\n",
      "Epoch 5/5\n",
      "1875/1875 [==============================] - 9s 5ms/step - loss: 27.3046 - accuracy: 0.0997\n"
     ]
    },
    {
     "data": {
      "text/plain": [
       "<keras.src.callbacks.History at 0x21309405880>"
      ]
     },
     "execution_count": 33,
     "metadata": {},
     "output_type": "execute_result"
    }
   ],
   "source": [
    "model=mod(2,'tanh')\n",
    "model.compile(optimizer='adam',loss='mean_squared_error',metrics=['accuracy'])\n",
    "model.fit(X_train,y_train,epochs=5)\n"
   ]
  },
  {
   "cell_type": "code",
   "execution_count": 34,
   "id": "22120cca",
   "metadata": {},
   "outputs": [
    {
     "name": "stdout",
     "output_type": "stream",
     "text": [
      "Test loss: 27.251890182495117\n",
      "Test accuracy: 0.10119999945163727\n"
     ]
    }
   ],
   "source": [
    "score = model.evaluate(x_test, y_test, verbose=0)\n",
    "print('Test loss:', score[0])\n",
    "print('Test accuracy:', score[1])\n"
   ]
  },
  {
   "cell_type": "code",
   "execution_count": 35,
   "id": "1e64c44e",
   "metadata": {},
   "outputs": [
    {
     "name": "stdout",
     "output_type": "stream",
     "text": [
      "Epoch 1/5\n",
      "1875/1875 [==============================] - 10s 5ms/step - loss: 27.3046 - accuracy: 0.1053\n",
      "Epoch 2/5\n",
      "1875/1875 [==============================] - 10s 5ms/step - loss: 27.3046 - accuracy: 0.0960\n",
      "Epoch 3/5\n",
      "1875/1875 [==============================] - 10s 5ms/step - loss: 27.3046 - accuracy: 0.0963\n",
      "Epoch 4/5\n",
      "1875/1875 [==============================] - 9s 5ms/step - loss: 27.3046 - accuracy: 0.1015\n",
      "Epoch 5/5\n",
      "1875/1875 [==============================] - 9s 5ms/step - loss: 27.3046 - accuracy: 0.0982\n"
     ]
    },
    {
     "data": {
      "text/plain": [
       "<keras.src.callbacks.History at 0x2130af108b0>"
      ]
     },
     "execution_count": 35,
     "metadata": {},
     "output_type": "execute_result"
    }
   ],
   "source": [
    "model1=mod(2,'relu')\n",
    "model1.compile(optimizer='adam',loss='mean_squared_error',metrics=['accuracy'])\n",
    "model1.fit(X_train,y_train,epochs=5)\n"
   ]
  },
  {
   "cell_type": "code",
   "execution_count": 36,
   "id": "b5efd1aa",
   "metadata": {},
   "outputs": [
    {
     "name": "stdout",
     "output_type": "stream",
     "text": [
      "Test loss: 27.261587142944336\n",
      "Test accuracy: 0.10769999772310257\n"
     ]
    }
   ],
   "source": [
    "score = model1.evaluate(x_test, y_test, verbose=0)\n",
    "print('Test loss:', score[0])\n",
    "print('Test accuracy:', score[1])"
   ]
  },
  {
   "cell_type": "code",
   "execution_count": 40,
   "id": "4ce97d7a",
   "metadata": {},
   "outputs": [
    {
     "name": "stdout",
     "output_type": "stream",
     "text": [
      "Epoch 1/5\n",
      "1875/1875 [==============================] - 48s 25ms/step - loss: 27.3046 - accuracy: 0.0953\n",
      "Epoch 2/5\n",
      "1875/1875 [==============================] - 44s 23ms/step - loss: 27.3046 - accuracy: 0.1022\n",
      "Epoch 3/5\n",
      "1875/1875 [==============================] - 43s 23ms/step - loss: 27.3046 - accuracy: 0.1000\n",
      "Epoch 4/5\n",
      "1875/1875 [==============================] - 44s 23ms/step - loss: 27.3046 - accuracy: 0.1002\n",
      "Epoch 5/5\n",
      "1875/1875 [==============================] - 44s 23ms/step - loss: 27.3046 - accuracy: 0.0989\n"
     ]
    },
    {
     "data": {
      "text/plain": [
       "<keras.src.callbacks.History at 0x2130b298fd0>"
      ]
     },
     "execution_count": 40,
     "metadata": {},
     "output_type": "execute_result"
    }
   ],
   "source": [
    "model2 = Sequential()\n",
    "model2.add(Conv2D(filters=16, kernel_size=(3, 3), activation='relu', input_shape=(28,28,1)))\n",
    "model2.add(Conv2D(filters=16, kernel_size=(5,5), activation='relu', input_shape=(28,28,1)))\n",
    "model2.add(Flatten())\n",
    "model2.add(Dense(10,activation = 'softmax'))\n",
    "model2.compile(optimizer='adam',loss='mean_squared_error',metrics=['accuracy'])\n",
    "model2.fit(X_train,y_train,epochs=5)"
   ]
  },
  {
   "cell_type": "code",
   "execution_count": 41,
   "id": "ee0e36fc",
   "metadata": {},
   "outputs": [
    {
     "name": "stdout",
     "output_type": "stream",
     "text": [
      "Test loss: 27.256969451904297\n",
      "Test accuracy: 0.13699999451637268\n"
     ]
    }
   ],
   "source": [
    "score = model2.evaluate(x_test, y_test, verbose=0)\n",
    "print('Test loss:', score[0])\n",
    "print('Test accuracy:', score[1])"
   ]
  },
  {
   "cell_type": "code",
   "execution_count": 42,
   "id": "1ec6e95e",
   "metadata": {},
   "outputs": [
    {
     "name": "stdout",
     "output_type": "stream",
     "text": [
      "Epoch 1/5\n",
      "1875/1875 [==============================] - 11s 5ms/step - loss: 27.3046 - accuracy: 0.0961\n",
      "Epoch 2/5\n",
      "1875/1875 [==============================] - 10s 5ms/step - loss: 27.3046 - accuracy: 0.0993\n",
      "Epoch 3/5\n",
      "1875/1875 [==============================] - 10s 5ms/step - loss: 27.3046 - accuracy: 0.1016\n",
      "Epoch 4/5\n",
      "1875/1875 [==============================] - 10s 5ms/step - loss: 27.3046 - accuracy: 0.1024\n",
      "Epoch 5/5\n",
      "1875/1875 [==============================] - 10s 5ms/step - loss: 27.3046 - accuracy: 0.1011\n"
     ]
    },
    {
     "data": {
      "text/plain": [
       "<keras.src.callbacks.History at 0x213093f0d30>"
      ]
     },
     "execution_count": 42,
     "metadata": {},
     "output_type": "execute_result"
    }
   ],
   "source": [
    "model3 = Sequential()\n",
    "model3.add(Conv2D(filters=32, kernel_size=(3, 3),strides=(2,2), activation='relu', input_shape=(28,28,1)))\n",
    "model3.add(Conv2D(filters=32, kernel_size=(5,5),strides=(2,2), activation='relu', input_shape=(28,28,1)))\n",
    "model3.add(Flatten())\n",
    "model3.add(Dense(10,activation = 'softmax'))\n",
    "model3.compile(optimizer='adam',loss='mean_squared_error',metrics=['accuracy'])\n",
    "model3.fit(X_train,y_train,epochs=5)"
   ]
  },
  {
   "cell_type": "code",
   "execution_count": 43,
   "id": "2d483217",
   "metadata": {},
   "outputs": [
    {
     "name": "stdout",
     "output_type": "stream",
     "text": [
      "Test loss: 27.256338119506836\n",
      "Test accuracy: 0.0723000019788742\n"
     ]
    }
   ],
   "source": [
    "score = model3.evaluate(x_test, y_test, verbose=0)\n",
    "print('Test loss:', score[0])\n",
    "print('Test accuracy:', score[1])"
   ]
  },
  {
   "cell_type": "code",
   "execution_count": 44,
   "id": "365d58c7",
   "metadata": {},
   "outputs": [
    {
     "name": "stdout",
     "output_type": "stream",
     "text": [
      "Epoch 1/5\n",
      "1875/1875 [==============================] - 5s 2ms/step - loss: 27.3046 - accuracy: 0.0977\n",
      "Epoch 2/5\n",
      "1875/1875 [==============================] - 4s 2ms/step - loss: 27.3046 - accuracy: 0.1018\n",
      "Epoch 3/5\n",
      "1875/1875 [==============================] - 4s 2ms/step - loss: 27.3046 - accuracy: 0.1005\n",
      "Epoch 4/5\n",
      "1875/1875 [==============================] - 4s 2ms/step - loss: 27.3046 - accuracy: 0.1024\n",
      "Epoch 5/5\n",
      "1875/1875 [==============================] - 4s 2ms/step - loss: 27.3046 - accuracy: 0.1013\n"
     ]
    },
    {
     "data": {
      "text/plain": [
       "<keras.src.callbacks.History at 0x2135077d3a0>"
      ]
     },
     "execution_count": 44,
     "metadata": {},
     "output_type": "execute_result"
    }
   ],
   "source": [
    "model4 = Sequential()\n",
    "model4.add(Conv2D(filters=32, kernel_size=(3, 3),strides=(3,3), activation='relu', input_shape=(28,28,1)))\n",
    "model4.add(Conv2D(filters=32, kernel_size=(5,5),strides=(3,3), activation='relu', input_shape=(28,28,1)))\n",
    "model4.add(Flatten())\n",
    "model4.add(Dense(10,activation = 'softmax'))\n",
    "model4.compile(optimizer='adam',loss='mean_squared_error',metrics=['accuracy'])\n",
    "model4.fit(X_train,y_train,epochs=5)"
   ]
  },
  {
   "cell_type": "code",
   "execution_count": 45,
   "id": "42377339",
   "metadata": {},
   "outputs": [
    {
     "name": "stdout",
     "output_type": "stream",
     "text": [
      "Test loss: 27.256040573120117\n",
      "Test accuracy: 0.07249999791383743\n"
     ]
    }
   ],
   "source": [
    "score = model4.evaluate(x_test, y_test, verbose=0)\n",
    "print('Test loss:', score[0])\n",
    "print('Test accuracy:', score[1])\n"
   ]
  },
  {
   "cell_type": "code",
   "execution_count": 47,
   "id": "569fe8a6",
   "metadata": {},
   "outputs": [
    {
     "name": "stdout",
     "output_type": "stream",
     "text": [
      "Epoch 1/5\n",
      "1875/1875 [==============================] - 10s 5ms/step - loss: 27.3046 - accuracy: 0.1037\n",
      "Epoch 2/5\n",
      "1875/1875 [==============================] - 9s 5ms/step - loss: 27.3046 - accuracy: 0.1012\n",
      "Epoch 3/5\n",
      "1875/1875 [==============================] - 9s 5ms/step - loss: 27.3046 - accuracy: 0.1010\n",
      "Epoch 4/5\n",
      "1875/1875 [==============================] - 9s 5ms/step - loss: 27.3046 - accuracy: 0.1009\n",
      "Epoch 5/5\n",
      "1875/1875 [==============================] - 9s 5ms/step - loss: 27.3046 - accuracy: 0.1028\n"
     ]
    },
    {
     "data": {
      "text/plain": [
       "<keras.src.callbacks.History at 0x21352aa9430>"
      ]
     },
     "execution_count": 47,
     "metadata": {},
     "output_type": "execute_result"
    }
   ],
   "source": [
    "model5 = Sequential()\n",
    "model5.add(Conv2D(filters=32, kernel_size=(5,5),strides=(2,2), activation='relu', input_shape=(28,28,1)))\n",
    "model5.add(Conv2D(filters=32, kernel_size=(5,5),strides=(2,2), activation='relu', input_shape=(28,28,1)))\n",
    "model5.add(Flatten())\n",
    "model5.add(Dense(10,activation = 'softmax'))\n",
    "model5.compile(optimizer='adam',loss='mean_squared_error',metrics=['accuracy'])\n",
    "model5.fit(X_train,y_train,epochs=5)"
   ]
  },
  {
   "cell_type": "code",
   "execution_count": 48,
   "id": "785f82e0",
   "metadata": {},
   "outputs": [
    {
     "name": "stdout",
     "output_type": "stream",
     "text": [
      "Test loss: 27.25255584716797\n",
      "Test accuracy: 0.09390000253915787\n"
     ]
    }
   ],
   "source": [
    "score = model5.evaluate(x_test, y_test, verbose=0)\n",
    "print('Test loss:', score[0])\n",
    "print('Test accuracy:', score[1])\n"
   ]
  },
  {
   "cell_type": "code",
   "execution_count": 49,
   "id": "5bbb5575",
   "metadata": {},
   "outputs": [
    {
     "name": "stdout",
     "output_type": "stream",
     "text": [
      "Epoch 1/5\n",
      "1875/1875 [==============================] - 9s 5ms/step - loss: 27.3046 - accuracy: 0.0981\n",
      "Epoch 2/5\n",
      "1875/1875 [==============================] - 9s 5ms/step - loss: 27.3046 - accuracy: 0.0987\n",
      "Epoch 3/5\n",
      "1875/1875 [==============================] - 9s 5ms/step - loss: 27.3046 - accuracy: 0.0985\n",
      "Epoch 4/5\n",
      "1875/1875 [==============================] - 8s 5ms/step - loss: 27.3046 - accuracy: 0.1003\n",
      "Epoch 5/5\n",
      "1875/1875 [==============================] - 9s 5ms/step - loss: 27.3046 - accuracy: 0.1006\n"
     ]
    },
    {
     "data": {
      "text/plain": [
       "<keras.src.callbacks.History at 0x21352a87820>"
      ]
     },
     "execution_count": 49,
     "metadata": {},
     "output_type": "execute_result"
    }
   ],
   "source": [
    "model6 = Sequential()\n",
    "model6.add(Conv2D(filters=32, kernel_size=(7,7),strides=(2,2), activation='relu', input_shape=(28,28,1)))\n",
    "model6.add(Conv2D(filters=32, kernel_size=(7,7),strides=(2,2), activation='relu', input_shape=(28,28,1)))\n",
    "model6.add(Flatten())\n",
    "model6.add(Dense(10,activation = 'softmax'))\n",
    "model6.compile(optimizer='adam',loss='mean_squared_error',metrics=['accuracy'])\n",
    "model6.fit(X_train,y_train,epochs=5)\n"
   ]
  },
  {
   "cell_type": "code",
   "execution_count": 50,
   "id": "0034ab11",
   "metadata": {},
   "outputs": [
    {
     "name": "stdout",
     "output_type": "stream",
     "text": [
      "Test loss: 27.250436782836914\n",
      "Test accuracy: 0.046300001442432404\n"
     ]
    }
   ],
   "source": [
    "score = model6.evaluate(x_test, y_test, verbose=0)\n",
    "print('Test loss:', score[0])\n",
    "print('Test accuracy:', score[1])"
   ]
  },
  {
   "cell_type": "code",
   "execution_count": 51,
   "id": "2e03b53d",
   "metadata": {},
   "outputs": [
    {
     "name": "stdout",
     "output_type": "stream",
     "text": [
      "Epoch 1/5\n",
      "1875/1875 [==============================] - 76s 40ms/step - loss: 27.3045 - accuracy: 0.1011\n",
      "Epoch 2/5\n",
      "1875/1875 [==============================] - 75s 40ms/step - loss: 27.3046 - accuracy: 0.0970\n",
      "Epoch 3/5\n",
      "1875/1875 [==============================] - 73s 39ms/step - loss: 27.3046 - accuracy: 0.0994\n",
      "Epoch 4/5\n",
      "1875/1875 [==============================] - 75s 40ms/step - loss: 27.3046 - accuracy: 0.0982\n",
      "Epoch 5/5\n",
      "1875/1875 [==============================] - 72s 39ms/step - loss: 27.3046 - accuracy: 0.0992\n"
     ]
    },
    {
     "data": {
      "text/plain": [
       "<keras.src.callbacks.History at 0x213013ab4c0>"
      ]
     },
     "execution_count": 51,
     "metadata": {},
     "output_type": "execute_result"
    }
   ],
   "source": [
    "model7 = Sequential()\n",
    "model7.add(Conv2D(filters=32, kernel_size=(5,5), activation='relu', input_shape=(28,28,1)))\n",
    "model7.add(Conv2D(filters=32, kernel_size=(5,5), activation='relu', input_shape=(28,28,1)))\n",
    "model7.add(MaxPooling2D(pool_size=(2,2)))\n",
    "model7.add(Flatten())\n",
    "model7.add(Dense(10,activation = 'softmax'))\n",
    "model7.compile(optimizer='adam',loss='mean_squared_error',metrics=['accuracy'])\n",
    "model7.fit(X_train,y_train,epochs=5)"
   ]
  },
  {
   "cell_type": "code",
   "execution_count": 52,
   "id": "a63b084c",
   "metadata": {},
   "outputs": [
    {
     "name": "stdout",
     "output_type": "stream",
     "text": [
      "Test loss: 27.253005981445312\n",
      "Test accuracy: 0.11999999731779099\n"
     ]
    }
   ],
   "source": [
    "score = model7.evaluate(x_test, y_test, verbose=0)\n",
    "print('Test loss:', score[0])\n",
    "print('Test accuracy:', score[1])"
   ]
  },
  {
   "cell_type": "code",
   "execution_count": 53,
   "id": "1f5cb945",
   "metadata": {},
   "outputs": [
    {
     "name": "stdout",
     "output_type": "stream",
     "text": [
      "Epoch 1/5\n",
      "1875/1875 [==============================] - 58s 31ms/step - loss: 27.3046 - accuracy: 0.0971\n",
      "Epoch 2/5\n",
      "1875/1875 [==============================] - 59s 31ms/step - loss: 27.3046 - accuracy: 0.1018\n",
      "Epoch 3/5\n",
      "1875/1875 [==============================] - 59s 31ms/step - loss: 27.3046 - accuracy: 0.1007\n",
      "Epoch 4/5\n",
      "1875/1875 [==============================] - 59s 31ms/step - loss: 27.3046 - accuracy: 0.1032\n",
      "Epoch 5/5\n",
      "1875/1875 [==============================] - 60s 32ms/step - loss: 27.3046 - accuracy: 0.1006\n"
     ]
    },
    {
     "data": {
      "text/plain": [
       "<keras.src.callbacks.History at 0x213016198e0>"
      ]
     },
     "execution_count": 53,
     "metadata": {},
     "output_type": "execute_result"
    }
   ],
   "source": [
    "model8 = Sequential()\n",
    "model8.add(Conv2D(filters=32, kernel_size=(7,7), activation='relu', input_shape=(28,28,1)))\n",
    "model8.add(Conv2D(filters=32, kernel_size=(7,7), activation='relu', input_shape=(28,28,1)))\n",
    "model8.add(MaxPooling2D(pool_size=(2,2)))\n",
    "model8.add(Flatten())\n",
    "model8.add(Dense(10,activation = 'softmax'))\n",
    "model8.compile(optimizer='adam',loss='mean_squared_error',metrics=['accuracy'])\n",
    "model8.fit(X_train,y_train,epochs=5)"
   ]
  },
  {
   "cell_type": "code",
   "execution_count": 54,
   "id": "26bf135c",
   "metadata": {},
   "outputs": [
    {
     "name": "stdout",
     "output_type": "stream",
     "text": [
      "Test loss: 27.250656127929688\n",
      "Test accuracy: 0.05900000035762787\n"
     ]
    }
   ],
   "source": [
    "score = model8.evaluate(x_test, y_test, verbose=0)\n",
    "print('Test loss:', score[0])\n",
    "print('Test accuracy:', score[1])"
   ]
  },
  {
   "cell_type": "code",
   "execution_count": 55,
   "id": "0f08f493",
   "metadata": {},
   "outputs": [
    {
     "name": "stdout",
     "output_type": "stream",
     "text": [
      "Epoch 1/5\n",
      "1875/1875 [==============================] - 97s 52ms/step - loss: 27.3046 - accuracy: 0.1022\n",
      "Epoch 2/5\n",
      "1875/1875 [==============================] - 101s 54ms/step - loss: 27.3046 - accuracy: 0.1028\n",
      "Epoch 3/5\n",
      "1875/1875 [==============================] - 100s 53ms/step - loss: 27.3046 - accuracy: 0.1033\n",
      "Epoch 4/5\n",
      "1875/1875 [==============================] - 98s 52ms/step - loss: 27.3046 - accuracy: 0.0985\n",
      "Epoch 5/5\n",
      "1875/1875 [==============================] - 100s 53ms/step - loss: 27.3046 - accuracy: 0.0996\n"
     ]
    },
    {
     "data": {
      "text/plain": [
       "<keras.src.callbacks.History at 0x2130502f670>"
      ]
     },
     "execution_count": 55,
     "metadata": {},
     "output_type": "execute_result"
    }
   ],
   "source": [
    "model9 = Sequential()\n",
    "model9.add(Conv2D(filters=32, kernel_size=(5,5), activation='relu',padding='same', input_shape=(28,28,1)))\n",
    "model9.add(Conv2D(filters=32, kernel_size=(5,5), activation='relu',padding='same', input_shape=(28,28,1)))\n",
    "model9.add(Flatten())\n",
    "model9.add(Dense(10,activation = 'softmax'))\n",
    "model9.compile(optimizer='adam',loss='mean_squared_error',metrics=['accuracy'])\n",
    "model9.fit(X_train,y_train,epochs=5)"
   ]
  },
  {
   "cell_type": "code",
   "execution_count": 56,
   "id": "9c24377b",
   "metadata": {},
   "outputs": [
    {
     "name": "stdout",
     "output_type": "stream",
     "text": [
      "Test loss: 27.252906799316406\n",
      "Test accuracy: 0.1136000007390976\n"
     ]
    }
   ],
   "source": [
    "score = model9.evaluate(x_test, y_test, verbose=0)\n",
    "print('Test loss:', score[0])\n",
    "print('Test accuracy:', score[1])"
   ]
  }
 ],
 "metadata": {
  "kernelspec": {
   "display_name": "Python 3 (ipykernel)",
   "language": "python",
   "name": "python3"
  },
  "language_info": {
   "codemirror_mode": {
    "name": "ipython",
    "version": 3
   },
   "file_extension": ".py",
   "mimetype": "text/x-python",
   "name": "python",
   "nbconvert_exporter": "python",
   "pygments_lexer": "ipython3",
   "version": "3.9.12"
  }
 },
 "nbformat": 4,
 "nbformat_minor": 5
}
