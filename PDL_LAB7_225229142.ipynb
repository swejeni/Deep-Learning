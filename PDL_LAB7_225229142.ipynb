{
 "cells": [
  {
   "cell_type": "markdown",
   "id": "8e4e9f5b",
   "metadata": {},
   "source": [
    "### PDL Lab7. Exploration of DNN design choices using MNIST dataset"
   ]
  },
  {
   "cell_type": "markdown",
   "id": "838ca41d",
   "metadata": {},
   "source": [
    "#### SWETHA JENIFER S\n",
    "#### 225229142"
   ]
  },
  {
   "cell_type": "code",
   "execution_count": 1,
   "id": "e9e1e801",
   "metadata": {},
   "outputs": [],
   "source": [
    "import numpy as np\n",
    "import tensorflow as tf\n",
    "from tensorflow.keras.datasets import mnist\n",
    "from tensorflow.keras.models import Sequential\n",
    "from tensorflow.keras.layers import Dense, Flatten, Conv2D, MaxPooling2D\n",
    "from tensorflow.keras.optimizers import Adam\n",
    "from tensorflow.keras.utils import to_categorical\n",
    "from sklearn.model_selection import train_test_split"
   ]
  },
  {
   "cell_type": "code",
   "execution_count": 2,
   "id": "e673abe4",
   "metadata": {},
   "outputs": [],
   "source": [
    "# Load the MNIST dataset and preprocess the data\n",
    "(X_train, y_train), (X_test, y_test) = mnist.load_data()\n",
    "X_train = X_train.reshape(-1, 28, 28, 1).astype('float32') / 255.0\n",
    "X_test = X_test.reshape(-1, 28, 28, 1).astype('float32') / 255.0\n",
    "y_train = to_categorical(y_train, 10)\n",
    "y_test = to_categorical(y_test, 10)"
   ]
  },
  {
   "cell_type": "code",
   "execution_count": 3,
   "id": "3331589b",
   "metadata": {},
   "outputs": [],
   "source": [
    "# Split the training data into training and validation sets\n",
    "X_train, X_val, y_train, y_val = train_test_split(X_train, y_train, test_size=0.2, random_state=42)"
   ]
  },
  {
   "cell_type": "code",
   "execution_count": 4,
   "id": "0c0e3694",
   "metadata": {},
   "outputs": [],
   "source": [
    "# Simple Feedforward Neural Network (MLP)\n",
    "def create_mlp_model():\n",
    "    model = Sequential()\n",
    "    model.add(Flatten(input_shape=(28, 28, 1)))\n",
    "    model.add(Dense(128, activation='relu'))\n",
    "    model.add(Dense(64, activation='relu'))\n",
    "    model.add(Dense(10, activation='softmax'))\n",
    "    return model"
   ]
  },
  {
   "cell_type": "code",
   "execution_count": 5,
   "id": "35074c15",
   "metadata": {},
   "outputs": [],
   "source": [
    "# Convolutional Neural Network (CNN)\n",
    "def create_cnn_model():\n",
    "    model = Sequential()\n",
    "    model.add(Conv2D(32, kernel_size=(3, 3), activation='relu', input_shape=(28, 28, 1)))\n",
    "    model.add(MaxPooling2D(pool_size=(2, 2)))\n",
    "    model.add(Flatten())\n",
    "    model.add(Dense(128, activation='relu'))\n",
    "    model.add(Dense(10, activation='softmax'))\n",
    "    return model"
   ]
  },
  {
   "cell_type": "code",
   "execution_count": 6,
   "id": "28a26727",
   "metadata": {},
   "outputs": [],
   "source": [
    "# Train and evaluate the models\n",
    "def train_and_evaluate(model, X_train, y_train, X_val, y_val):\n",
    "    model.compile(loss='categorical_crossentropy', optimizer=Adam(), metrics=['accuracy'])\n",
    "    model.fit(X_train, y_train, batch_size=128, epochs=10, validation_data=(X_val, y_val))\n",
    "    _, accuracy = model.evaluate(X_val, y_val)\n",
    "    print(f\"Validation Accuracy: {accuracy*100:.2f}%\")"
   ]
  },
  {
   "cell_type": "code",
   "execution_count": 7,
   "id": "97957946",
   "metadata": {},
   "outputs": [
    {
     "name": "stdout",
     "output_type": "stream",
     "text": [
      "Training MLP Model:\n",
      "Epoch 1/10\n",
      "375/375 [==============================] - 4s 7ms/step - loss: 0.3672 - accuracy: 0.8967 - val_loss: 0.1841 - val_accuracy: 0.9479\n",
      "Epoch 2/10\n",
      "375/375 [==============================] - 2s 6ms/step - loss: 0.1561 - accuracy: 0.9542 - val_loss: 0.1481 - val_accuracy: 0.9568\n",
      "Epoch 3/10\n",
      "375/375 [==============================] - 2s 6ms/step - loss: 0.1109 - accuracy: 0.9680 - val_loss: 0.1173 - val_accuracy: 0.9650\n",
      "Epoch 4/10\n",
      "375/375 [==============================] - 2s 6ms/step - loss: 0.0862 - accuracy: 0.9741 - val_loss: 0.1003 - val_accuracy: 0.9694\n",
      "Epoch 5/10\n",
      "375/375 [==============================] - 2s 6ms/step - loss: 0.0678 - accuracy: 0.9797 - val_loss: 0.0904 - val_accuracy: 0.9721\n",
      "Epoch 6/10\n",
      "375/375 [==============================] - 2s 6ms/step - loss: 0.0521 - accuracy: 0.9847 - val_loss: 0.0861 - val_accuracy: 0.9742\n",
      "Epoch 7/10\n",
      "375/375 [==============================] - 2s 6ms/step - loss: 0.0423 - accuracy: 0.9876 - val_loss: 0.0979 - val_accuracy: 0.9695\n",
      "Epoch 8/10\n",
      "375/375 [==============================] - 2s 6ms/step - loss: 0.0353 - accuracy: 0.9897 - val_loss: 0.0838 - val_accuracy: 0.9771\n",
      "Epoch 9/10\n",
      "375/375 [==============================] - 2s 6ms/step - loss: 0.0299 - accuracy: 0.9913 - val_loss: 0.0802 - val_accuracy: 0.9771\n",
      "Epoch 10/10\n",
      "375/375 [==============================] - 2s 6ms/step - loss: 0.0236 - accuracy: 0.9930 - val_loss: 0.0837 - val_accuracy: 0.9767\n",
      "375/375 [==============================] - 1s 3ms/step - loss: 0.0837 - accuracy: 0.9767\n",
      "Validation Accuracy: 97.67%\n"
     ]
    }
   ],
   "source": [
    "# Create and train the MLP model\n",
    "mlp_model = create_mlp_model()\n",
    "print(\"Training MLP Model:\")\n",
    "train_and_evaluate(mlp_model, X_train, y_train, X_val, y_val)"
   ]
  },
  {
   "cell_type": "code",
   "execution_count": 8,
   "id": "23945344",
   "metadata": {},
   "outputs": [
    {
     "name": "stdout",
     "output_type": "stream",
     "text": [
      "Training CNN Model:\n",
      "Epoch 1/10\n",
      "375/375 [==============================] - 28s 71ms/step - loss: 0.2698 - accuracy: 0.9219 - val_loss: 0.1083 - val_accuracy: 0.9686\n",
      "Epoch 2/10\n",
      "375/375 [==============================] - 24s 65ms/step - loss: 0.0842 - accuracy: 0.9759 - val_loss: 0.0725 - val_accuracy: 0.9778\n",
      "Epoch 3/10\n",
      "375/375 [==============================] - 23s 60ms/step - loss: 0.0567 - accuracy: 0.9838 - val_loss: 0.0592 - val_accuracy: 0.9805\n",
      "Epoch 4/10\n",
      "375/375 [==============================] - 22s 60ms/step - loss: 0.0412 - accuracy: 0.9879 - val_loss: 0.0621 - val_accuracy: 0.9807\n",
      "Epoch 5/10\n",
      "375/375 [==============================] - 22s 60ms/step - loss: 0.0320 - accuracy: 0.9901 - val_loss: 0.0510 - val_accuracy: 0.9850\n",
      "Epoch 6/10\n",
      "375/375 [==============================] - 23s 60ms/step - loss: 0.0245 - accuracy: 0.9927 - val_loss: 0.0493 - val_accuracy: 0.9851\n",
      "Epoch 7/10\n",
      "375/375 [==============================] - 22s 59ms/step - loss: 0.0186 - accuracy: 0.9944 - val_loss: 0.0555 - val_accuracy: 0.9838\n",
      "Epoch 8/10\n",
      "375/375 [==============================] - 23s 61ms/step - loss: 0.0162 - accuracy: 0.9949 - val_loss: 0.0548 - val_accuracy: 0.9849\n",
      "Epoch 9/10\n",
      "375/375 [==============================] - 23s 61ms/step - loss: 0.0120 - accuracy: 0.9967 - val_loss: 0.0499 - val_accuracy: 0.9862\n",
      "Epoch 10/10\n",
      "375/375 [==============================] - 23s 61ms/step - loss: 0.0083 - accuracy: 0.9979 - val_loss: 0.0538 - val_accuracy: 0.9862\n",
      "375/375 [==============================] - 2s 6ms/step - loss: 0.0538 - accuracy: 0.9862\n",
      "Validation Accuracy: 98.62%\n"
     ]
    }
   ],
   "source": [
    "# Create and train the CNN model\n",
    "cnn_model = create_cnn_model()\n",
    "print(\"Training CNN Model:\")\n",
    "train_and_evaluate(cnn_model, X_train, y_train, X_val, y_val)"
   ]
  },
  {
   "cell_type": "code",
   "execution_count": 9,
   "id": "0ba80ff6",
   "metadata": {},
   "outputs": [
    {
     "name": "stdout",
     "output_type": "stream",
     "text": [
      "313/313 [==============================] - 1s 2ms/step - loss: 0.0796 - accuracy: 0.9770\n",
      "MLP Test Accuracy: 97.70%\n",
      "313/313 [==============================] - 2s 6ms/step - loss: 0.0493 - accuracy: 0.9849\n",
      "CNN Test Accuracy: 98.49%\n"
     ]
    }
   ],
   "source": [
    "# Evaluate the models on the test set\n",
    "_, mlp_accuracy = mlp_model.evaluate(X_test, y_test)\n",
    "print(f\"MLP Test Accuracy: {mlp_accuracy*100:.2f}%\")\n",
    "\n",
    "_, cnn_accuracy = cnn_model.evaluate(X_test, y_test)\n",
    "print(f\"CNN Test Accuracy: {cnn_accuracy*100:.2f}%\")"
   ]
  }
 ],
 "metadata": {
  "kernelspec": {
   "display_name": "Python 3 (ipykernel)",
   "language": "python",
   "name": "python3"
  },
  "language_info": {
   "codemirror_mode": {
    "name": "ipython",
    "version": 3
   },
   "file_extension": ".py",
   "mimetype": "text/x-python",
   "name": "python",
   "nbconvert_exporter": "python",
   "pygments_lexer": "ipython3",
   "version": "3.9.13"
  }
 },
 "nbformat": 4,
 "nbformat_minor": 5
}
